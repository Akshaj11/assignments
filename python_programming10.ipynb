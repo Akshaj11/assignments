{
 "cells": [
  {
   "cell_type": "code",
   "execution_count": 23,
   "metadata": {},
   "outputs": [],
   "source": [
    "#1\n",
    "l=[1,100,34,21,36,789,43,22,67,43,90,1000]"
   ]
  },
  {
   "cell_type": "code",
   "execution_count": 24,
   "metadata": {},
   "outputs": [
    {
     "name": "stdout",
     "output_type": "stream",
     "text": [
      "2246\n"
     ]
    }
   ],
   "source": [
    "sum=0\n",
    "for i in l:\n",
    "    sum=sum+i\n",
    "print(sum)"
   ]
  },
  {
   "cell_type": "code",
   "execution_count": 25,
   "metadata": {},
   "outputs": [
    {
     "name": "stdout",
     "output_type": "stream",
     "text": [
      "497455938668304000000\n"
     ]
    }
   ],
   "source": [
    "#2\n",
    "mul=1\n",
    "for i in l:\n",
    "    mul=mul*i\n",
    "print(mul)"
   ]
  },
  {
   "cell_type": "code",
   "execution_count": 26,
   "metadata": {},
   "outputs": [
    {
     "name": "stdout",
     "output_type": "stream",
     "text": [
      "1000\n"
     ]
    }
   ],
   "source": [
    "#4\n",
    "max=l[0]\n",
    "i=0\n",
    "while i<(len(l)):\n",
    "    if l[i]>max:\n",
    "        max=l[i]\n",
    "    i=i+1\n",
    "print(max)\n",
    "    "
   ]
  },
  {
   "cell_type": "code",
   "execution_count": 27,
   "metadata": {},
   "outputs": [
    {
     "name": "stdout",
     "output_type": "stream",
     "text": [
      "1\n"
     ]
    }
   ],
   "source": [
    "#3\n",
    "min=l[0]\n",
    "for i in range(len(l)):\n",
    "    if l[i]<min:\n",
    "        min=l[i]\n",
    "print(min)"
   ]
  },
  {
   "cell_type": "code",
   "execution_count": 28,
   "metadata": {},
   "outputs": [
    {
     "name": "stdout",
     "output_type": "stream",
     "text": [
      "789\n"
     ]
    }
   ],
   "source": [
    "#5\n",
    "max=l[0]\n",
    "i=0\n",
    "while i<(len(l)):\n",
    "    if l[i]>max:\n",
    "        max=l[i]\n",
    "    i=i+1\n",
    "l.remove(max)\n",
    "max2=l[0]\n",
    "i=0\n",
    "while i<(len(l)):\n",
    "    if l[i]>max2:\n",
    "        max2=l[i]\n",
    "    i=i+1\n",
    "print(max2)\n"
   ]
  },
  {
   "cell_type": "code",
   "execution_count": 13,
   "metadata": {},
   "outputs": [
    {
     "name": "stdout",
     "output_type": "stream",
     "text": [
      "enter n: 3\n",
      "1\n",
      "24\n",
      "33\n"
     ]
    }
   ],
   "source": [
    "#6\n",
    "n=int(input('enter n: '))\n",
    "m=[1,45,67,33,24,98,212,34,56]\n",
    "l=[]\n",
    "for i in range(len(m)):\n",
    "    min=m[0]\n",
    "    for j in range(len(m)):\n",
    "        if m[j]<min:\n",
    "            min=m[j]\n",
    "    l.append(min)\n",
    "    m.remove(min)\n",
    "for i in range(n):\n",
    "    print(l[i])\n",
    "    "
   ]
  },
  {
   "cell_type": "code",
   "execution_count": 69,
   "metadata": {},
   "outputs": [
    {
     "name": "stdout",
     "output_type": "stream",
     "text": [
      "24  is an even no.\n",
      "98  is an even no.\n",
      "212  is an even no.\n",
      "34  is an even no.\n",
      "56  is an even no.\n"
     ]
    }
   ],
   "source": [
    "#7\n",
    "m=[1,45,67,33,24,98,212,34,56]\n",
    "for i in m:\n",
    "    if i%2==0:\n",
    "        print(i,' is an even no.')"
   ]
  },
  {
   "cell_type": "code",
   "execution_count": 72,
   "metadata": {},
   "outputs": [
    {
     "name": "stdout",
     "output_type": "stream",
     "text": [
      "1  is an odd no.\n",
      "45  is an odd no.\n",
      "67  is an odd no.\n",
      "33  is an odd no.\n"
     ]
    }
   ],
   "source": [
    "#8\n",
    "for i in m:\n",
    "    if i%2!=0:\n",
    "        print(i,' is an odd no.')"
   ]
  },
  {
   "cell_type": "code",
   "execution_count": 84,
   "metadata": {},
   "outputs": [],
   "source": [
    "#9\n",
    "e=[1,2,3,['akshaj',1,45],[],[67,3],5,[]]\n",
    "for i in e:\n",
    "    if type(i)==list:\n",
    "        count=0\n",
    "        for j in i:\n",
    "            count=count+1\n",
    "        if count==0:\n",
    "            e.remove(i)"
   ]
  },
  {
   "cell_type": "code",
   "execution_count": 85,
   "metadata": {},
   "outputs": [
    {
     "data": {
      "text/plain": [
       "[1, 2, 3, ['akshaj', 1, 45], [67, 3], 5]"
      ]
     },
     "execution_count": 85,
     "metadata": {},
     "output_type": "execute_result"
    }
   ],
   "source": [
    "e"
   ]
  },
  {
   "cell_type": "code",
   "execution_count": 79,
   "metadata": {},
   "outputs": [
    {
     "name": "stdout",
     "output_type": "stream",
     "text": [
      "[1, 45, 67, 33, 24, 98, 212, 34, 56]\n"
     ]
    }
   ],
   "source": [
    "#10\n",
    "n=[]\n",
    "for i in m:\n",
    "    n.append(i)\n",
    "print(n)\n"
   ]
  },
  {
   "cell_type": "code",
   "execution_count": 82,
   "metadata": {},
   "outputs": [
    {
     "name": "stdout",
     "output_type": "stream",
     "text": [
      "enter value of an element: 1\n",
      "1  occurs  6  times in the list\n"
     ]
    }
   ],
   "source": [
    "#11\n",
    "c=[1,2,33,1,1,56,23,1,33,1,5,33,11,1]\n",
    "n=int(input('enter value of an element: '))\n",
    "count=0\n",
    "for i in c:\n",
    "    if i==n:\n",
    "        count=count+1\n",
    "print(n,' occurs ',count,' times in the list')"
   ]
  },
  {
   "cell_type": "code",
   "execution_count": null,
   "metadata": {},
   "outputs": [],
   "source": []
  }
 ],
 "metadata": {
  "kernelspec": {
   "display_name": "Python 3",
   "language": "python",
   "name": "python3"
  },
  "language_info": {
   "codemirror_mode": {
    "name": "ipython",
    "version": 3
   },
   "file_extension": ".py",
   "mimetype": "text/x-python",
   "name": "python",
   "nbconvert_exporter": "python",
   "pygments_lexer": "ipython3",
   "version": "3.7.6"
  }
 },
 "nbformat": 4,
 "nbformat_minor": 4
}
