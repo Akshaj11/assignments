{
 "cells": [
  {
   "cell_type": "code",
   "execution_count": 1,
   "metadata": {},
   "outputs": [],
   "source": [
    "#ASSIGNMENT1"
   ]
  },
  {
   "cell_type": "code",
   "execution_count": 2,
   "metadata": {},
   "outputs": [
    {
     "name": "stdout",
     "output_type": "stream",
     "text": [
      "hello world!\n"
     ]
    }
   ],
   "source": [
    "#1\n",
    "print('hello world!')"
   ]
  },
  {
   "cell_type": "code",
   "execution_count": 3,
   "metadata": {},
   "outputs": [
    {
     "name": "stdout",
     "output_type": "stream",
     "text": [
      "enter first number:100\n",
      "enter second number:50\n",
      "the sum of two numbers is  150.0\n",
      "the difference of two numbers is  50.0\n",
      "the product of two numbers is  5000.0\n",
      "the divsion of two numbers is  2.0\n"
     ]
    }
   ],
   "source": [
    "#2\n",
    "x=float(input('enter first number:'))\n",
    "y=float(input('enter second number:'))\n",
    "addition=x+y\n",
    "division=x/y\n",
    "subtraction=x-y\n",
    "multiplication=x*y\n",
    "print('the sum of two numbers is ',addition)\n",
    "print('the difference of two numbers is ',subtraction)\n",
    "print('the product of two numbers is ',multiplication)\n",
    "print('the divsion of two numbers is ',division)\n"
   ]
  },
  {
   "cell_type": "code",
   "execution_count": 5,
   "metadata": {},
   "outputs": [
    {
     "name": "stdout",
     "output_type": "stream",
     "text": [
      "enter height of triangle: 45\n",
      "enter base length of triangle: 12\n",
      "area of the triangle is:  270.0\n"
     ]
    }
   ],
   "source": [
    "#3\n",
    "h=float(input('enter height of triangle: '))\n",
    "b=float(input('enter base length of triangle: '))\n",
    "area=(h*b)/2\n",
    "print('area of the triangle is: ',area)"
   ]
  },
  {
   "cell_type": "code",
   "execution_count": 7,
   "metadata": {},
   "outputs": [
    {
     "name": "stdout",
     "output_type": "stream",
     "text": [
      "enter a number: 12\n",
      "enter second number: 16\n",
      "value of a(swapped):  16  value of b(swapped):  12\n"
     ]
    }
   ],
   "source": [
    "#4\n",
    "a=int(input('enter a number: '))\n",
    "b=int(input('enter second number: '))\n",
    "a,b=b,a\n",
    "print('value of a(swapped): ',a,' value of b(swapped): ',b)"
   ]
  },
  {
   "cell_type": "code",
   "execution_count": 8,
   "metadata": {},
   "outputs": [
    {
     "name": "stdout",
     "output_type": "stream",
     "text": [
      "42\n"
     ]
    }
   ],
   "source": [
    "#5\n",
    "import random\n",
    "x=random.randint(0,100)\n",
    "print(x)"
   ]
  },
  {
   "cell_type": "code",
   "execution_count": 9,
   "metadata": {},
   "outputs": [],
   "source": [
    "y=random.triangular()"
   ]
  }
 ],
 "metadata": {
  "kernelspec": {
   "display_name": "Python 3",
   "language": "python",
   "name": "python3"
  },
  "language_info": {
   "codemirror_mode": {
    "name": "ipython",
    "version": 3
   },
   "file_extension": ".py",
   "mimetype": "text/x-python",
   "name": "python",
   "nbconvert_exporter": "python",
   "pygments_lexer": "ipython3",
   "version": "3.7.6"
  }
 },
 "nbformat": 4,
 "nbformat_minor": 4
}
