{
 "cells": [
  {
   "cell_type": "code",
   "execution_count": 2,
   "metadata": {},
   "outputs": [],
   "source": [
    "#assignment11"
   ]
  },
  {
   "cell_type": "code",
   "execution_count": 4,
   "metadata": {},
   "outputs": [
    {
     "name": "stdout",
     "output_type": "stream",
     "text": [
      "enter length: 5\n",
      "['akshaj', 'currently', 'learning', 'python', 'programming']\n"
     ]
    }
   ],
   "source": [
    "#1\n",
    "k=int(input('enter length: '))\n",
    "x='hey my name is akshaj and currently i am learning python programming'\n",
    "l=x.split()\n",
    "m=[]\n",
    "for i in l:\n",
    "    if len(i)>k:\n",
    "        m.append(i)\n",
    "print(m)\n"
   ]
  },
  {
   "cell_type": "code",
   "execution_count": 11,
   "metadata": {},
   "outputs": [
    {
     "name": "stdout",
     "output_type": "stream",
     "text": [
      "enter character: 3\n"
     ]
    },
    {
     "data": {
      "text/plain": [
       "'he there i am akshaj'"
      ]
     },
     "execution_count": 11,
     "metadata": {},
     "output_type": "execute_result"
    }
   ],
   "source": [
    "#2\n",
    "j=int(input('enter character: '))\n",
    "a=j-1\n",
    "x='hey there i am akshaj'\n",
    "l=list(x)\n",
    "for i in range(len(l)):\n",
    "    if i==a:\n",
    "        l.remove(l[i])\n",
    "''.join(l)\n",
    "\n",
    "        "
   ]
  },
  {
   "cell_type": "code",
   "execution_count": 16,
   "metadata": {},
   "outputs": [
    {
     "data": {
      "text/plain": [
       "'akshaj#shah#three#eight#nine'"
      ]
     },
     "execution_count": 16,
     "metadata": {},
     "output_type": "execute_result"
    }
   ],
   "source": [
    "#3\n",
    "x='akshaj shah three eight nine'\n",
    "l=x.split()\n",
    "'#'.join(l)"
   ]
  },
  {
   "cell_type": "code",
   "execution_count": 20,
   "metadata": {},
   "outputs": [
    {
     "name": "stdout",
     "output_type": "stream",
     "text": [
      "enter string to check whether binary or not: 0110110110111\n",
      "binary!\n"
     ]
    }
   ],
   "source": [
    "#4\n",
    "b='01'\n",
    "x=input('enter string to check whether binary or not: ')\n",
    "for i in x:\n",
    "    if i not in b:\n",
    "        print('not binary')\n",
    "        break\n",
    "else:\n",
    "    print('binary!')\n"
   ]
  },
  {
   "cell_type": "code",
   "execution_count": 50,
   "metadata": {},
   "outputs": [
    {
     "data": {
      "text/plain": [
       "{'akshaj', 'rahul', 'roy', 'shah'}"
      ]
     },
     "execution_count": 50,
     "metadata": {},
     "output_type": "execute_result"
    }
   ],
   "source": [
    "#5\n",
    "x='my name is akshaj shah'\n",
    "y='my name is rahul roy'\n",
    "l1=x.split()\n",
    "l2=y.split()\n",
    "s1=set(l1)\n",
    "s2=set(l2)\n",
    "a=s1.symmetric_difference(s2)\n",
    "a"
   ]
  },
  {
   "cell_type": "code",
   "execution_count": 2,
   "metadata": {},
   "outputs": [
    {
     "name": "stdout",
     "output_type": "stream",
     "text": [
      "enter string here: akshaj is good\n",
      "['a', 's', ' ', 'o']\n"
     ]
    }
   ],
   "source": [
    "#6\n",
    "s=input('enter string here: ')\n",
    "l=list(s)\n",
    "m=[]\n",
    "for i in range(len(l)):\n",
    "    for j in range(i+1,len(l)):\n",
    "        if l[j]==l[i]:\n",
    "           \n",
    "            m.append(l[i])\n",
    "print(m)\n"
   ]
  },
  {
   "cell_type": "code",
   "execution_count": 4,
   "metadata": {},
   "outputs": [
    {
     "name": "stdout",
     "output_type": "stream",
     "text": [
      "enter any string: 11\n",
      "special character not found!\n"
     ]
    }
   ],
   "source": [
    "#7\n",
    "x=input('enter any string: ') #(32–47 / 58–64 / 91–96 / 123–126)\n",
    "for i in x:\n",
    "    if (ord(i)>31 and ord(i)<48)or(ord(i)>57 and ord(i)<65)or(ord(i)>90 and ord(i)<97)or(ord(i)>122 and ord(i)<127):\n",
    "        print('special character found!')\n",
    "        break\n",
    "else:\n",
    "    print('special character not found!')\n"
   ]
  },
  {
   "cell_type": "code",
   "execution_count": null,
   "metadata": {},
   "outputs": [],
   "source": []
  }
 ],
 "metadata": {
  "kernelspec": {
   "display_name": "Python 3",
   "language": "python",
   "name": "python3"
  },
  "language_info": {
   "codemirror_mode": {
    "name": "ipython",
    "version": 3
   },
   "file_extension": ".py",
   "mimetype": "text/x-python",
   "name": "python",
   "nbconvert_exporter": "python",
   "pygments_lexer": "ipython3",
   "version": "3.7.6"
  }
 },
 "nbformat": 4,
 "nbformat_minor": 4
}
