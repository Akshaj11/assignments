{
 "cells": [
  {
   "cell_type": "code",
   "execution_count": 1,
   "metadata": {},
   "outputs": [],
   "source": [
    "#1"
   ]
  },
  {
   "cell_type": "code",
   "execution_count": 3,
   "metadata": {},
   "outputs": [
    {
     "name": "stdout",
     "output_type": "stream",
     "text": [
      "enter a number:5\n",
      "24\n"
     ]
    }
   ],
   "source": [
    "n=int(input('enter a number:'))\n",
    "fact=1\n",
    "for i in range(1,n):\n",
    "    fact=fact*i\n",
    "print(fact)\n",
    "    "
   ]
  },
  {
   "cell_type": "code",
   "execution_count": 4,
   "metadata": {},
   "outputs": [
    {
     "name": "stdout",
     "output_type": "stream",
     "text": [
      "enter a number: 4\n",
      "4  *  1 = 4 \n",
      "\n",
      "4  *  2 = 8 \n",
      "\n",
      "4  *  3 = 12 \n",
      "\n",
      "4  *  4 = 16 \n",
      "\n",
      "4  *  5 = 20 \n",
      "\n",
      "4  *  6 = 24 \n",
      "\n",
      "4  *  7 = 28 \n",
      "\n",
      "4  *  8 = 32 \n",
      "\n",
      "4  *  9 = 36 \n",
      "\n",
      "4  *  10 = 40 \n",
      "\n"
     ]
    }
   ],
   "source": [
    "#2\n",
    "n=int(input('enter a number: '))\n",
    "for i in range(1,11):\n",
    "    print(n,' * ',i,'=',n*i,'\\n')"
   ]
  },
  {
   "cell_type": "code",
   "execution_count": 10,
   "metadata": {},
   "outputs": [
    {
     "name": "stdout",
     "output_type": "stream",
     "text": [
      "enter number of terms: 4\n",
      "0\n",
      "1\n",
      "1\n",
      "2\n"
     ]
    }
   ],
   "source": [
    "#3\n",
    "x=int(input('enter number of terms: '))\n",
    "n1,n2=0,1\n",
    "if x==1:\n",
    "    print(n1)\n",
    "else: \n",
    "    for i in range(x):\n",
    "        print(n1)\n",
    "        n=n1+n2\n",
    "        n1=n2\n",
    "        n2=n"
   ]
  },
  {
   "cell_type": "code",
   "execution_count": 14,
   "metadata": {},
   "outputs": [
    {
     "name": "stdout",
     "output_type": "stream",
     "text": [
      "enter a whole number: 1634\n",
      "it is an armstrong number\n"
     ]
    }
   ],
   "source": [
    "#4\n",
    "n=int(input('enter a whole number: '))\n",
    "count=0\n",
    "x=n\n",
    "while x>0:\n",
    "    d=x%10\n",
    "    count=count+1\n",
    "    x=x//10\n",
    "length=count\n",
    "sum=0\n",
    "y=n\n",
    "while y>0:\n",
    "    digit=y%10\n",
    "    sum=sum+(digit**length)\n",
    "    y=y//10\n",
    "if sum==n:\n",
    "    print('it is an armstrong number')\n",
    "else:\n",
    "    print('not an armstrong number')"
   ]
  },
  {
   "cell_type": "code",
   "execution_count": 19,
   "metadata": {},
   "outputs": [
    {
     "name": "stdout",
     "output_type": "stream",
     "text": [
      "enter lower limit: 100\n",
      "enter upper limit: 1635\n",
      "153,370,371,407,1634,"
     ]
    }
   ],
   "source": [
    "#5\n",
    "l=int(input('enter lower limit: '))\n",
    "u=int(input('enter upper limit: '))\n",
    "for i in range(l,u+1):\n",
    "    count=0\n",
    "    x=i\n",
    "    while x>0:\n",
    "        d=x%10\n",
    "        count=count+1\n",
    "        x=x//10\n",
    "    length=count\n",
    "    sum=0\n",
    "    y=i\n",
    "    while y>0:\n",
    "        digit=y%10\n",
    "        sum=sum+(digit**length)\n",
    "        y=y//10\n",
    "    if sum==i:\n",
    "        print(i,end=',')        "
   ]
  },
  {
   "cell_type": "code",
   "execution_count": 21,
   "metadata": {},
   "outputs": [
    {
     "name": "stdout",
     "output_type": "stream",
     "text": [
      "enter number: 12\n",
      "78\n"
     ]
    }
   ],
   "source": [
    "#6\n",
    "x=int(input('enter number: '))\n",
    "sum=0\n",
    "for i in range(1,x+1):\n",
    "    sum=sum+i\n",
    "print(sum)"
   ]
  },
  {
   "cell_type": "code",
   "execution_count": null,
   "metadata": {},
   "outputs": [],
   "source": []
  }
 ],
 "metadata": {
  "kernelspec": {
   "display_name": "Python 3",
   "language": "python",
   "name": "python3"
  },
  "language_info": {
   "codemirror_mode": {
    "name": "ipython",
    "version": 3
   },
   "file_extension": ".py",
   "mimetype": "text/x-python",
   "name": "python",
   "nbconvert_exporter": "python",
   "pygments_lexer": "ipython3",
   "version": "3.7.6"
  }
 },
 "nbformat": 4,
 "nbformat_minor": 4
}
