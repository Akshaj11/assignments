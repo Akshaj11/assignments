{
 "cells": [
  {
   "cell_type": "code",
   "execution_count": 2,
   "metadata": {},
   "outputs": [
    {
     "name": "stdout",
     "output_type": "stream",
     "text": [
      "48\n"
     ]
    }
   ],
   "source": [
    "#1\n",
    "x=12\n",
    "y=16\n",
    "num=0\n",
    "if x>y:\n",
    "    num=x\n",
    "else:\n",
    "    num=y\n",
    "while True:\n",
    "    if (num%x==0) and (num%y==0):\n",
    "        lcm=num\n",
    "        break\n",
    "    else:\n",
    "        num=num+1\n",
    "print(lcm)"
   ]
  },
  {
   "cell_type": "code",
   "execution_count": 9,
   "metadata": {},
   "outputs": [],
   "source": [
    "#2\n",
    "a=16\n",
    "b=12\n",
    "num1=0\n",
    "hcf=0\n",
    "if a<b:\n",
    "    num1=a\n",
    "else:\n",
    "    num1=b\n",
    "while True:\n",
    "    if (a%num1==0) and (b%num1==0):\n",
    "        hcf=num1\n",
    "        break\n",
    "    else:\n",
    "        num1=num1-1"
   ]
  },
  {
   "cell_type": "code",
   "execution_count": 10,
   "metadata": {},
   "outputs": [
    {
     "data": {
      "text/plain": [
       "4"
      ]
     },
     "execution_count": 10,
     "metadata": {},
     "output_type": "execute_result"
    }
   ],
   "source": [
    "hcf"
   ]
  },
  {
   "cell_type": "code",
   "execution_count": 14,
   "metadata": {},
   "outputs": [
    {
     "name": "stdout",
     "output_type": "stream",
     "text": [
      "[0, 1, 1]\n"
     ]
    }
   ],
   "source": [
    "#3\n",
    "#decimal to binary\n",
    "n=123\n",
    "l=[]\n",
    "r=1\n",
    "while (r)>0:\n",
    "    r=n%2\n",
    "    n=n//2\n",
    "    l.append(r)\n",
    "l.reverse()\n",
    "print(l)"
   ]
  },
  {
   "cell_type": "code",
   "execution_count": 3,
   "metadata": {},
   "outputs": [],
   "source": [
    "#4\n",
    "def ascii_converter(x):\n",
    "    return ord(x)"
   ]
  },
  {
   "cell_type": "code",
   "execution_count": 4,
   "metadata": {},
   "outputs": [
    {
     "data": {
      "text/plain": [
       "97"
      ]
     },
     "execution_count": 4,
     "metadata": {},
     "output_type": "execute_result"
    }
   ],
   "source": [
    "ascii_converter('a')"
   ]
  },
  {
   "cell_type": "code",
   "execution_count": 5,
   "metadata": {},
   "outputs": [
    {
     "name": "stdout",
     "output_type": "stream",
     "text": [
      "enter first number: 12\n",
      "enter second number: 13\n",
      "enter what you want to do [+ - / * ]: +\n",
      "25.0\n"
     ]
    }
   ],
   "source": [
    "#5\n",
    "a=float(input('enter first number: '))\n",
    "b=float(input('enter second number: '))\n",
    "x=input('enter what you want to do [+ - / * ]: ')\n",
    "mul=a*b\n",
    "div=a/b\n",
    "add=a+b\n",
    "sub=a-b\n",
    "if x=='+':\n",
    "    print(add)\n",
    "elif x=='-':\n",
    "    print(sub)\n",
    "elif x=='*':\n",
    "    print(mul)\n",
    "elif x=='/':\n",
    "    print(div)\n",
    "else:\n",
    "    print('enter correct operation ')"
   ]
  },
  {
   "cell_type": "code",
   "execution_count": null,
   "metadata": {},
   "outputs": [],
   "source": []
  }
 ],
 "metadata": {
  "kernelspec": {
   "display_name": "Python 3",
   "language": "python",
   "name": "python3"
  },
  "language_info": {
   "codemirror_mode": {
    "name": "ipython",
    "version": 3
   },
   "file_extension": ".py",
   "mimetype": "text/x-python",
   "name": "python",
   "nbconvert_exporter": "python",
   "pygments_lexer": "ipython3",
   "version": "3.7.6"
  }
 },
 "nbformat": 4,
 "nbformat_minor": 4
}
