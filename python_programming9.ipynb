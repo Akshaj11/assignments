{
 "cells": [
  {
   "cell_type": "code",
   "execution_count": 42,
   "metadata": {},
   "outputs": [],
   "source": [
    "#1\n",
    "def is_disarium(n):\n",
    "    r=0\n",
    "    l=[]\n",
    "    t=n\n",
    "    while t>0:\n",
    "        r=t%10\n",
    "        l.append(r)\n",
    "        t=t//10\n",
    "    l.reverse()\n",
    "    sum1=0\n",
    "    for i in range(len(l)):\n",
    "        sum1=sum1+(l[i]**(i+1))\n",
    "    if sum1==n:\n",
    "        return True\n",
    "        \n",
    "        \n",
    "        "
   ]
  },
  {
   "cell_type": "code",
   "execution_count": 43,
   "metadata": {},
   "outputs": [
    {
     "data": {
      "text/plain": [
       "True"
      ]
     },
     "execution_count": 43,
     "metadata": {},
     "output_type": "execute_result"
    }
   ],
   "source": [
    "is_disarium(175)"
   ]
  },
  {
   "cell_type": "code",
   "execution_count": 48,
   "metadata": {},
   "outputs": [],
   "source": [
    "#2\n",
    "def disarium_nos():\n",
    "    result=[]\n",
    "    for i in range(1,101):\n",
    "        x=is_disarium(i)\n",
    "        if x==True:\n",
    "            \n",
    "            result.append(i)\n",
    "    print(result)"
   ]
  },
  {
   "cell_type": "code",
   "execution_count": 49,
   "metadata": {},
   "outputs": [
    {
     "name": "stdout",
     "output_type": "stream",
     "text": [
      "[1, 2, 3, 4, 5, 6, 7, 8, 9, 89]\n"
     ]
    }
   ],
   "source": [
    "disarium_nos()"
   ]
  },
  {
   "cell_type": "code",
   "execution_count": 6,
   "metadata": {},
   "outputs": [
    {
     "name": "stdout",
     "output_type": "stream",
     "text": [
      "happy number\n"
     ]
    }
   ],
   "source": [
    "#3\n",
    "n=32\n",
    "t=n\n",
    "l=[]\n",
    "while t!=1:\n",
    "    sum3=0\n",
    "    while t>0:\n",
    "        r=t%10\n",
    "        sum3=sum3+(r**2)\n",
    "        t=t//10\n",
    "    t=sum3\n",
    "    if t not in l:\n",
    "        l.append(t)\n",
    "    else:\n",
    "        print('sad number')\n",
    "        break\n",
    "else:\n",
    "    print('happy number')\n",
    "\n",
    "    "
   ]
  },
  {
   "cell_type": "code",
   "execution_count": 12,
   "metadata": {},
   "outputs": [],
   "source": [
    "#4\n",
    "def is_harshad(n):\n",
    "    t=n\n",
    "    r=0\n",
    "    sum4=0\n",
    "    while t>0:\n",
    "        r=t%10\n",
    "        sum4=sum4+r\n",
    "        t=t//10\n",
    "    if n%sum4==0:\n",
    "        return 'harshad number'\n",
    "    else:\n",
    "        return 'not a harshad number'"
   ]
  },
  {
   "cell_type": "code",
   "execution_count": 13,
   "metadata": {},
   "outputs": [
    {
     "data": {
      "text/plain": [
       "'harshad number'"
      ]
     },
     "execution_count": 13,
     "metadata": {},
     "output_type": "execute_result"
    }
   ],
   "source": [
    "is_harshad(378)"
   ]
  },
  {
   "cell_type": "code",
   "execution_count": 14,
   "metadata": {},
   "outputs": [
    {
     "data": {
      "text/plain": [
       "'harshad number'"
      ]
     },
     "execution_count": 14,
     "metadata": {},
     "output_type": "execute_result"
    }
   ],
   "source": [
    "is_harshad(21)"
   ]
  },
  {
   "cell_type": "code",
   "execution_count": 15,
   "metadata": {},
   "outputs": [
    {
     "data": {
      "text/plain": [
       "'not a harshad number'"
      ]
     },
     "execution_count": 15,
     "metadata": {},
     "output_type": "execute_result"
    }
   ],
   "source": [
    "is_harshad(15)"
   ]
  },
  {
   "cell_type": "code",
   "execution_count": null,
   "metadata": {},
   "outputs": [],
   "source": [
    "#5\n",
    "def is_pronic(n):\n",
    "    for i in range(1,n):\n",
    "        if i*(i+1)==n:\n",
    "            return True\n",
    "        else:\n",
    "            pass\n",
    "    else: \n",
    "        return False"
   ]
  },
  {
   "cell_type": "code",
   "execution_count": 27,
   "metadata": {},
   "outputs": [
    {
     "data": {
      "text/plain": [
       "True"
      ]
     },
     "execution_count": 27,
     "metadata": {},
     "output_type": "execute_result"
    }
   ],
   "source": [
    "is_pronic(6)"
   ]
  },
  {
   "cell_type": "code",
   "execution_count": 28,
   "metadata": {},
   "outputs": [
    {
     "data": {
      "text/plain": [
       "False"
      ]
     },
     "execution_count": 28,
     "metadata": {},
     "output_type": "execute_result"
    }
   ],
   "source": [
    "is_pronic(19)"
   ]
  },
  {
   "cell_type": "code",
   "execution_count": 31,
   "metadata": {},
   "outputs": [],
   "source": [
    "#6\n",
    "def all_pronic():\n",
    "    for i in range(101):\n",
    "        x=is_pronic(i)\n",
    "        if x==True:\n",
    "            print(i,end=',')"
   ]
  },
  {
   "cell_type": "code",
   "execution_count": 32,
   "metadata": {},
   "outputs": [
    {
     "name": "stdout",
     "output_type": "stream",
     "text": [
      "2,6,12,20,30,42,56,72,90,"
     ]
    }
   ],
   "source": [
    "all_pronic()"
   ]
  },
  {
   "cell_type": "code",
   "execution_count": null,
   "metadata": {},
   "outputs": [],
   "source": []
  }
 ],
 "metadata": {
  "kernelspec": {
   "display_name": "Python 3",
   "language": "python",
   "name": "python3"
  },
  "language_info": {
   "codemirror_mode": {
    "name": "ipython",
    "version": 3
   },
   "file_extension": ".py",
   "mimetype": "text/x-python",
   "name": "python",
   "nbconvert_exporter": "python",
   "pygments_lexer": "ipython3",
   "version": "3.7.6"
  }
 },
 "nbformat": 4,
 "nbformat_minor": 4
}
