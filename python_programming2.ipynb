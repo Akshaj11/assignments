{
 "cells": [
  {
   "cell_type": "code",
   "execution_count": 1,
   "metadata": {},
   "outputs": [],
   "source": [
    "#ASSIGNMENT2"
   ]
  },
  {
   "cell_type": "code",
   "execution_count": 2,
   "metadata": {},
   "outputs": [
    {
     "name": "stdout",
     "output_type": "stream",
     "text": [
      "enter kilometers you want to convert into miles: 10\n",
      "miles=  6.21371\n"
     ]
    }
   ],
   "source": [
    "#1\n",
    "km=float(input('enter kilometers you want to convert into miles: '))\n",
    "miles=km*0.621371\n",
    "print('miles= ',miles)"
   ]
  },
  {
   "cell_type": "code",
   "execution_count": 3,
   "metadata": {},
   "outputs": [
    {
     "name": "stdout",
     "output_type": "stream",
     "text": [
      "enter temp. in centigrade: 35\n",
      "temperatue in fahrenheits:  95.0\n"
     ]
    }
   ],
   "source": [
    "#2\n",
    "c=float(input('enter temp. in centigrade: '))\n",
    "f=(c*(9/5))+32\n",
    "print('temperatue in fahrenheits: ',f)"
   ]
  },
  {
   "cell_type": "code",
   "execution_count": 4,
   "metadata": {},
   "outputs": [],
   "source": [
    "#3\n",
    "import calendar"
   ]
  },
  {
   "cell_type": "code",
   "execution_count": 14,
   "metadata": {},
   "outputs": [],
   "source": [
    "x=calendar.month(2010,8)"
   ]
  },
  {
   "cell_type": "code",
   "execution_count": 18,
   "metadata": {},
   "outputs": [
    {
     "name": "stdout",
     "output_type": "stream",
     "text": [
      "    August 2010\n",
      "Mo Tu We Th Fr Sa Su\n",
      "                   1\n",
      " 2  3  4  5  6  7  8\n",
      " 9 10 11 12 13 14 15\n",
      "16 17 18 19 20 21 22\n",
      "23 24 25 26 27 28 29\n",
      "30 31\n",
      "\n"
     ]
    }
   ],
   "source": [
    "print(x)"
   ]
  },
  {
   "cell_type": "code",
   "execution_count": 23,
   "metadata": {},
   "outputs": [
    {
     "name": "stdout",
     "output_type": "stream",
     "text": [
      "enter value of a: 3\n",
      "enter value of b: 4\n",
      "enter value of c: 2\n",
      "complex roots\n"
     ]
    }
   ],
   "source": [
    "#4\n",
    "#ax^2+bx+c=0\n",
    "a=float(input('enter value of a: '))\n",
    "b=float(input('enter value of b: '))\n",
    "c=float(input('enter value of c: '))\n",
    "d=((b**2)-(4*a*c))\n",
    "if d>0:\n",
    "    r1=(((-b)+(d**1/2))/(2*a))\n",
    "    r2=(((-b)-(d**1/2))/(2*a))\n",
    "    print('root1: ',r1,'root2: ',r2)\n",
    "elif d==0:\n",
    "    r1=r1=(((-b)+(d**1/2))/(2*a))\n",
    "    print('only one root: ',r1)\n",
    "else:\n",
    "    print('complex roots')"
   ]
  },
  {
   "cell_type": "code",
   "execution_count": 13,
   "metadata": {},
   "outputs": [
    {
     "name": "stdout",
     "output_type": "stream",
     "text": [
      "a = 200\n",
      "b = 100\n"
     ]
    }
   ],
   "source": [
    "#5\n",
    "a=100\n",
    "b=200\n",
    "a,b=b,a\n",
    "print('a =',a)\n",
    "print('b =',b)"
   ]
  },
  {
   "cell_type": "code",
   "execution_count": null,
   "metadata": {},
   "outputs": [],
   "source": []
  }
 ],
 "metadata": {
  "kernelspec": {
   "display_name": "Python 3",
   "language": "python",
   "name": "python3"
  },
  "language_info": {
   "codemirror_mode": {
    "name": "ipython",
    "version": 3
   },
   "file_extension": ".py",
   "mimetype": "text/x-python",
   "name": "python",
   "nbconvert_exporter": "python",
   "pygments_lexer": "ipython3",
   "version": "3.7.6"
  }
 },
 "nbformat": 4,
 "nbformat_minor": 4
}
