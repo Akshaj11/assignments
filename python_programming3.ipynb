{
 "cells": [
  {
   "cell_type": "code",
   "execution_count": 1,
   "metadata": {},
   "outputs": [],
   "source": [
    "#ASSIGNMENT3"
   ]
  },
  {
   "cell_type": "code",
   "execution_count": 3,
   "metadata": {},
   "outputs": [
    {
     "name": "stdout",
     "output_type": "stream",
     "text": [
      "enter a number: 0.00001\n",
      "1e-05  is a positive number\n"
     ]
    }
   ],
   "source": [
    "#1\n",
    "x=float(input('enter a number: '))\n",
    "if x>0:\n",
    "    print(x,' is a positive number')\n",
    "elif x<0:\n",
    "    print(x,' is a negative number')\n",
    "else:\n",
    "    print('number entered is equal to zero')"
   ]
  },
  {
   "cell_type": "code",
   "execution_count": 5,
   "metadata": {},
   "outputs": [
    {
     "name": "stdout",
     "output_type": "stream",
     "text": [
      "enter a number: 0\n",
      "0  is an even number.\n"
     ]
    }
   ],
   "source": [
    "#2\n",
    "x=int(input('enter a number: '))\n",
    "if x%2==0:\n",
    "    print(x,' is an even number.')\n",
    "else:\n",
    "    print(x,' is an odd number')"
   ]
  },
  {
   "cell_type": "code",
   "execution_count": 6,
   "metadata": {},
   "outputs": [
    {
     "name": "stdout",
     "output_type": "stream",
     "text": [
      "enter an year: 2002\n",
      "this is not a leap year\n"
     ]
    }
   ],
   "source": [
    "#3\n",
    "x=int(input('enter an year: '))\n",
    "if x%4==0:\n",
    "    if x%100==0:\n",
    "        if x%400==0:\n",
    "            print('this is a leap year!')\n",
    "        else:\n",
    "            print('this is not a leap year')\n",
    "    else:\n",
    "        print('this is a leap year!')\n",
    "else:\n",
    "    print('this is not a leap year')"
   ]
  },
  {
   "cell_type": "code",
   "execution_count": 12,
   "metadata": {},
   "outputs": [
    {
     "name": "stdout",
     "output_type": "stream",
     "text": [
      "enter any number: 15\n",
      "15  is a composite number\n"
     ]
    }
   ],
   "source": [
    "#4\n",
    "x=int(input('enter any number: '))\n",
    "for i in range(2,x):\n",
    "    if x%i==0:\n",
    "        print(x,' is a composite number')\n",
    "        break\n",
    "else:\n",
    "    print(x,' is a prime number')\n"
   ]
  },
  {
   "cell_type": "code",
   "execution_count": 3,
   "metadata": {},
   "outputs": [
    {
     "ename": "SyntaxError",
     "evalue": "invalid syntax (<ipython-input-3-6ba9729c557e>, line 6)",
     "output_type": "error",
     "traceback": [
      "\u001b[1;36m  File \u001b[1;32m\"<ipython-input-3-6ba9729c557e>\"\u001b[1;36m, line \u001b[1;32m6\u001b[0m\n\u001b[1;33m    print(i,end=',' if i<10000 else end=' ')\u001b[0m\n\u001b[1;37m                                       ^\u001b[0m\n\u001b[1;31mSyntaxError\u001b[0m\u001b[1;31m:\u001b[0m invalid syntax\n"
     ]
    }
   ],
   "source": [
    "for i in range(2,10001):\n",
    "    for j in range(2,i):\n",
    "        if i%j==0:\n",
    "            break\n",
    "    else:\n",
    "        print(i,end=',' if i<10000 else end=' ')"
   ]
  },
  {
   "cell_type": "code",
   "execution_count": 20,
   "metadata": {},
   "outputs": [
    {
     "name": "stdout",
     "output_type": "stream",
     "text": [
      "enter any number: 8707\n",
      "prime\n"
     ]
    }
   ],
   "source": [
    "x=int(input('enter any number: '))\n",
    "flag=0\n",
    "for i in range(2,x):\n",
    "    if x%i==0:\n",
    "        flag=flag+1\n",
    "        break\n",
    "if flag!=0:\n",
    "    print('composite')\n",
    "else:\n",
    "    print('prime')"
   ]
  },
  {
   "cell_type": "code",
   "execution_count": null,
   "metadata": {},
   "outputs": [],
   "source": []
  }
 ],
 "metadata": {
  "kernelspec": {
   "display_name": "Python 3",
   "language": "python",
   "name": "python3"
  },
  "language_info": {
   "codemirror_mode": {
    "name": "ipython",
    "version": 3
   },
   "file_extension": ".py",
   "mimetype": "text/x-python",
   "name": "python",
   "nbconvert_exporter": "python",
   "pygments_lexer": "ipython3",
   "version": "3.7.6"
  }
 },
 "nbformat": 4,
 "nbformat_minor": 4
}
